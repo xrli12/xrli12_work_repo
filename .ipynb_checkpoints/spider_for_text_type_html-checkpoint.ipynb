{
 "cells": [
  {
   "cell_type": "code",
   "execution_count": 3,
   "metadata": {},
   "outputs": [],
   "source": [
    "import urllib3\n",
    "from bs4 import BeautifulSoup\n",
    "import requests"
   ]
  },
  {
   "cell_type": "markdown",
   "metadata": {},
   "source": [
    "用到的库"
   ]
  },
  {
   "cell_type": "code",
   "execution_count": 3,
   "metadata": {},
   "outputs": [],
   "source": [
    "def convert_tag_txt(req):\n",
    "    from bs4 import BeautifulSoup\n",
    "    soup=BeautifulSoup(req.data.decode('utf-8'))\n",
    "    body=soup.find(\"div\",class_='page-inner')\n",
    "    txt=''\n",
    "    for i in body.descendants:\n",
    "        node_txt=''            \n",
    "        if i.name=='p':\n",
    "            node_txt=i.text\n",
    "        if i.name=='img':\n",
    "            node_txt='![]( %s )' % ('https://wizardforcel.gitbooks.io/vbird-linux-basic-4e/content'+'/'+i['src'])\n",
    "        if i.name=='li':\n",
    "            node_txt='* '+i.text\n",
    "        if i.name=='h1':\n",
    "            node_txt='# '+i.text\n",
    "        if i.name=='h2':\n",
    "            node_txt='## '+i.text\n",
    "        if i.name=='h3':\n",
    "            node_txt='### '+i.text\n",
    "        if i.name=='h4':\n",
    "            node_txt='#### '+i.text\n",
    "        if i.name=='table':\n",
    "            t=''\n",
    "            column_num=0\n",
    "            for j in i.find_all('th'):\n",
    "                t=t+'|'+j.text\n",
    "                column_num=column_num+1\n",
    "            t=t+'| \\n'\n",
    "            for k in range(column_num):\n",
    "                t=t+'|---- '\n",
    "            t=t+'| \\n'\n",
    "            tbody=i.find('tbody')\n",
    "            for tr in tbody.find_all('tr'):\n",
    "                for  td in tr.find_all('td'):\n",
    "                    t=t+'|'+td.text\n",
    "                t=t+'| \\n'\n",
    "            node_txt=t\n",
    "        if node_txt!='' and node_txt!=None:\n",
    "            txt=txt+node_txt+'\\n'\n",
    "    return txt"
   ]
  },
  {
   "cell_type": "code",
   "execution_count": 3,
   "metadata": {},
   "outputs": [],
   "source": [
    "def html_markdown(src_path,des_path):\n",
    "    import urllib3\n",
    "    import os\n",
    "    http = urllib3.PoolManager()\n",
    "    num=0\n",
    "    for path in src_path:\n",
    "        num=num+1\n",
    "        req = http.request('GET', path)\n",
    "        txt=convert_tag_txt(req)\n",
    "        file_writer=open(des_path+'//'+'%s.md'%str(num),'wb+')\n",
    "        file_writer.write(txt.encode('utf-8'))\n",
    "        file_writer.close()"
   ]
  },
  {
   "cell_type": "code",
   "execution_count": null,
   "metadata": {},
   "outputs": [],
   "source": [
    "import urllib3 \n",
    "from bs4 import BeautifulSoup\n",
    "http = urllib3.PoolManager()\n",
    "url='https://wizardforcel.gitbooks.io/vbird-linux-basic-4e/content/4.html'\n",
    "des_path=r\"C:\\Users\\xrli12\\Desktop\\test\"\n",
    "req=http.request('GET',url)\n",
    "soup=BeautifulSoup(req.data.decode('utf-8'))\n",
    "txt=convert_tag_txt(req)\n",
    "file_writer=open(des_path+'//'+'%s.md'%soup.find('div',class_=\"book\")['data-level'],'wb+')\n",
    "file_writer.write(txt.encode('utf-8'))\n",
    "file_writer.close()"
   ]
  },
  {
   "cell_type": "code",
   "execution_count": 99,
   "metadata": {},
   "outputs": [
    {
     "data": {
      "text/plain": [
       "{'User-Agent': 'Mozilla/5.0 (Windows NT 10.0; Win64; x64) AppleWebKit/537.36 (KHTML, like Gecko) Chrome/60.0.3112.113 Safari/537.36'}"
      ]
     },
     "execution_count": 99,
     "metadata": {},
     "output_type": "execute_result"
    }
   ],
   "source": [
    "headers"
   ]
  },
  {
   "cell_type": "code",
   "execution_count": 97,
   "metadata": {},
   "outputs": [
    {
     "data": {
      "text/plain": [
       "'https://wizardforcel.gitbooks.io/vbird-linux-basic-4e/content/4.html'"
      ]
     },
     "execution_count": 97,
     "metadata": {},
     "output_type": "execute_result"
    }
   ],
   "source": [
    "base_url=r'https://wizardforcel.gitbooks.io/vbird-linux-basic-4e/content'\n",
    "soup.find('link',rel=\"next\")['href'][1:]\n",
    "base_url+soup.find('link',rel=\"next\")['href'][1:]"
   ]
  },
  {
   "cell_type": "code",
   "execution_count": 4,
   "metadata": {},
   "outputs": [
    {
     "name": "stdout",
     "output_type": "stream",
     "text": [
      "# 第零章、计算机概论\n",
      "最近更新日期：20//\n",
      "由过去的经验当中，鸟哥发现到因为兴趣或生活所逼而必须要接触 Linux 的朋友，很多可能并非信息相关专业出身， 因此对于电脑软/硬件方面的概念不熟。然而操作系统这种咚咚跟硬件有相当程度的关连性， 所以，如果不了解一下计算机概论，要很快的了解 Linux 的概念是有点难度的。因此，鸟哥就自作聪明的新增一个小章节来谈谈计概啰！ 因为鸟哥也不是信息相关学科出身，所以，写的不好的地方请大家多多指教啊！^_^\n",
      "\n"
     ]
    }
   ],
   "source": [
    "url=r'https://wizardforcel.gitbooks.io/vbird-linux-basic-4e/content/2.html'\n",
    "import  urllib3\n",
    "headers = {\n",
    "     'User-Agent':'Mozilla/5.0 (Windows NT 10.0; Win64; x64) AppleWebKit/537.36 (KHTML, like Gecko) Chrome/60.0.3112.113 Safari/537.36'\n",
    "}\n",
    "http=urllib3.PoolManager()\n",
    "r=http.request('get',url,headers=headers)\n",
    "print(convert_tag_txt(r))"
   ]
  },
  {
   "cell_type": "code",
   "execution_count": 7,
   "metadata": {},
   "outputs": [
    {
     "ename": "AttributeError",
     "evalue": "'NoneType' object has no attribute 'descendants'",
     "output_type": "error",
     "traceback": [
      "\u001b[1;31m---------------------------------------------------------------------------\u001b[0m",
      "\u001b[1;31mAttributeError\u001b[0m                            Traceback (most recent call last)",
      "\u001b[1;32m<ipython-input-7-d136873e4f73>\u001b[0m in \u001b[0;36m<module>\u001b[1;34m\u001b[0m\n\u001b[0;32m     20\u001b[0m     \u001b[0mreq\u001b[0m\u001b[1;33m=\u001b[0m\u001b[0mhttp\u001b[0m\u001b[1;33m.\u001b[0m\u001b[0mrequest\u001b[0m\u001b[1;33m(\u001b[0m\u001b[1;34m'get'\u001b[0m\u001b[1;33m,\u001b[0m\u001b[0murl\u001b[0m\u001b[1;33m,\u001b[0m\u001b[0mheaders\u001b[0m\u001b[1;33m=\u001b[0m\u001b[0mheaders\u001b[0m\u001b[1;33m)\u001b[0m\u001b[1;33m\u001b[0m\u001b[1;33m\u001b[0m\u001b[0m\n\u001b[0;32m     21\u001b[0m     \u001b[0msoup\u001b[0m\u001b[1;33m=\u001b[0m\u001b[0mBeautifulSoup\u001b[0m\u001b[1;33m(\u001b[0m\u001b[0mreq\u001b[0m\u001b[1;33m.\u001b[0m\u001b[0mdata\u001b[0m\u001b[1;33m.\u001b[0m\u001b[0mdecode\u001b[0m\u001b[1;33m(\u001b[0m\u001b[1;34m'utf-8'\u001b[0m\u001b[1;33m)\u001b[0m\u001b[1;33m)\u001b[0m\u001b[1;33m\u001b[0m\u001b[1;33m\u001b[0m\u001b[0m\n\u001b[1;32m---> 22\u001b[1;33m     \u001b[0mtxt\u001b[0m\u001b[1;33m=\u001b[0m\u001b[0mconvert_tag_txt\u001b[0m\u001b[1;33m(\u001b[0m\u001b[0mreq\u001b[0m\u001b[1;33m)\u001b[0m\u001b[1;33m\u001b[0m\u001b[1;33m\u001b[0m\u001b[0m\n\u001b[0m\u001b[0;32m     23\u001b[0m     \u001b[0mfile_writer\u001b[0m\u001b[1;33m=\u001b[0m\u001b[0mopen\u001b[0m\u001b[1;33m(\u001b[0m\u001b[0mdes_path\u001b[0m\u001b[1;33m+\u001b[0m\u001b[1;34m'//'\u001b[0m\u001b[1;33m+\u001b[0m\u001b[1;34m'%s.md'\u001b[0m\u001b[1;33m%\u001b[0m\u001b[0msoup\u001b[0m\u001b[1;33m.\u001b[0m\u001b[0mfind\u001b[0m\u001b[1;33m(\u001b[0m\u001b[1;34m'div'\u001b[0m\u001b[1;33m,\u001b[0m\u001b[0mclass_\u001b[0m\u001b[1;33m=\u001b[0m\u001b[1;34m\"book\"\u001b[0m\u001b[1;33m)\u001b[0m\u001b[1;33m[\u001b[0m\u001b[1;34m'data-level'\u001b[0m\u001b[1;33m]\u001b[0m\u001b[1;33m,\u001b[0m\u001b[1;34m'wb+'\u001b[0m\u001b[1;33m)\u001b[0m\u001b[1;33m\u001b[0m\u001b[1;33m\u001b[0m\u001b[0m\n\u001b[0;32m     24\u001b[0m     \u001b[0mfile_writer\u001b[0m\u001b[1;33m.\u001b[0m\u001b[0mwrite\u001b[0m\u001b[1;33m(\u001b[0m\u001b[0mtxt\u001b[0m\u001b[1;33m.\u001b[0m\u001b[0mencode\u001b[0m\u001b[1;33m(\u001b[0m\u001b[1;34m'utf-8'\u001b[0m\u001b[1;33m)\u001b[0m\u001b[1;33m)\u001b[0m\u001b[1;33m\u001b[0m\u001b[1;33m\u001b[0m\u001b[0m\n",
      "\u001b[1;32m<ipython-input-3-b3db321df2a0>\u001b[0m in \u001b[0;36mconvert_tag_txt\u001b[1;34m(req)\u001b[0m\n\u001b[0;32m      4\u001b[0m     \u001b[0mbody\u001b[0m\u001b[1;33m=\u001b[0m\u001b[0msoup\u001b[0m\u001b[1;33m.\u001b[0m\u001b[0mfind\u001b[0m\u001b[1;33m(\u001b[0m\u001b[1;34m\"div\"\u001b[0m\u001b[1;33m,\u001b[0m\u001b[0mclass_\u001b[0m\u001b[1;33m=\u001b[0m\u001b[1;34m'page-inner'\u001b[0m\u001b[1;33m)\u001b[0m\u001b[1;33m\u001b[0m\u001b[1;33m\u001b[0m\u001b[0m\n\u001b[0;32m      5\u001b[0m     \u001b[0mtxt\u001b[0m\u001b[1;33m=\u001b[0m\u001b[1;34m''\u001b[0m\u001b[1;33m\u001b[0m\u001b[1;33m\u001b[0m\u001b[0m\n\u001b[1;32m----> 6\u001b[1;33m     \u001b[1;32mfor\u001b[0m \u001b[0mi\u001b[0m \u001b[1;32min\u001b[0m \u001b[0mbody\u001b[0m\u001b[1;33m.\u001b[0m\u001b[0mdescendants\u001b[0m\u001b[1;33m:\u001b[0m\u001b[1;33m\u001b[0m\u001b[1;33m\u001b[0m\u001b[0m\n\u001b[0m\u001b[0;32m      7\u001b[0m         \u001b[0mnode_txt\u001b[0m\u001b[1;33m=\u001b[0m\u001b[1;34m''\u001b[0m\u001b[1;33m\u001b[0m\u001b[1;33m\u001b[0m\u001b[0m\n\u001b[0;32m      8\u001b[0m         \u001b[1;32mif\u001b[0m \u001b[0mi\u001b[0m\u001b[1;33m.\u001b[0m\u001b[0mname\u001b[0m\u001b[1;33m==\u001b[0m\u001b[1;34m'p'\u001b[0m\u001b[1;33m:\u001b[0m\u001b[1;33m\u001b[0m\u001b[1;33m\u001b[0m\u001b[0m\n",
      "\u001b[1;31mAttributeError\u001b[0m: 'NoneType' object has no attribute 'descendants'"
     ]
    }
   ],
   "source": [
    "import urllib3 \n",
    "from bs4 import BeautifulSoup\n",
    "headers = {\n",
    "     'User-Agent':'Mozilla/5.0 (Windows NT 10.0; Win64; x64) AppleWebKit/537.36 (KHTML, like Gecko) Chrome/60.0.3112.113 Safari/537.36'\n",
    "}\n",
    "des_path=r\"C:\\Users\\xrli12\\Desktop\\test\"\n",
    "url='https://wizardforcel.gitbooks.io/vbird-linux-basic-4e/content/1.html'\n",
    "base_url=r'https://wizardforcel.gitbooks.io/vbird-linux-basic-4e/content'\n",
    "http = urllib3.PoolManager()\n",
    "req=http.request('get',url,headers=headers)\n",
    "soup=BeautifulSoup(req.data.decode('utf-8'))\n",
    "txt=convert_tag_txt(req)\n",
    "file_writer=open(des_path+'//'+'%s.md'%soup.find('div',class_=\"book\")['data-level'],'wb+')\n",
    "file_writer.write(txt.encode('utf-8'))\n",
    "file_writer.close()\n",
    "while soup.find('link',rel=\"next\")['href']!=None :\n",
    "    url=base_url+soup.find('link',rel=\"next\")['href'][1:]\n",
    "    headers = {'User-Agent':'Mozilla/5.0 (Windows NT 10.0; Win64; x64) AppleWebKit/537.36 (KHTML, like Gecko) Chrome/60.0.3112.113 Safari/537.36'}\n",
    "    http = urllib3.PoolManager()\n",
    "    req=http.request('get',url,headers=headers)\n",
    "    soup=BeautifulSoup(req.data.decode('utf-8'))\n",
    "    txt=convert_tag_txt(req)\n",
    "    file_writer=open(des_path+'//'+'%s.md'%soup.find('div',class_=\"book\")['data-level'],'wb+')\n",
    "    file_writer.write(txt.encode('utf-8'))\n",
    "    file_writer.close()"
   ]
  }
 ],
 "metadata": {
  "kernelspec": {
   "display_name": "Python 3",
   "language": "python",
   "name": "python3"
  },
  "language_info": {
   "codemirror_mode": {
    "name": "ipython",
    "version": 3
   },
   "file_extension": ".py",
   "mimetype": "text/x-python",
   "name": "python",
   "nbconvert_exporter": "python",
   "pygments_lexer": "ipython3",
   "version": "3.7.6"
  }
 },
 "nbformat": 4,
 "nbformat_minor": 4
}
